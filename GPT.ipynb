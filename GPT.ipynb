{
 "cells": [
  {
   "cell_type": "code",
   "execution_count": 1,
   "id": "f05c3202",
   "metadata": {
    "id": "f05c3202"
   },
   "outputs": [],
   "source": [
    "import numpy as np\n",
    "import torch\n",
    "import torch.nn as nn\n",
    "\n",
    "d_k = 16 # Q K 的维度\n",
    "d_v = 16 # V 维度\n",
    "d_embedding = 128\n",
    "n_heads = 3\n",
    "batch_size = 16\n",
    "n_channel = 256\n",
    "n_layers = 6\n",
    "\n",
    "class ScaleDotAttention(nn.Module):\n",
    "    def __init__(self):\n",
    "        super(ScaleDotAttention, self).__init__()\n",
    "    def forward(self,Q=None,K=None,V=None,atten_mask=None):\n",
    "        scores = torch.matmul(Q,K.transpose(-1,-2))/np.sqrt(d_k)\n",
    "        scores.masked_fill_(atten_mask, -np.inf)\n",
    "        weights = nn.Softmax(dim=-1)(scores)\n",
    "        context = torch.matmul(weights, V)\n",
    "        return context, weights\n",
    "\n",
    "class MultiHeadAttention(nn.Module):\n",
    "    def __init__(self):\n",
    "        super(MultiHeadAttention,self).__init__()\n",
    "        self.W_Q = nn.Linear(d_embedding, d_k*n_heads)\n",
    "        self.W_K = nn.Linear(d_embedding, d_k*n_heads)\n",
    "        self.W_V = nn.Linear(d_embedding, d_v*n_heads)\n",
    "        self.linear = nn.Linear(n_heads*d_v, d_embedding)\n",
    "        self.scaledot = ScaleDotAttention()\n",
    "        self.layer_norm = nn.LayerNorm(d_embedding)\n",
    "    def forward(self, Q=None,K=None,V=None,atten_mask=None):\n",
    "        residual = Q\n",
    "        batch_size = Q.size(0)\n",
    "        q = self.W_Q(Q).view(batch_size,-1,n_heads, d_k).transpose(1,2)\n",
    "        k = self.W_K(K).view(batch_size,-1,n_heads, d_k).transpose(1,2)\n",
    "        v = self.W_V(V).view(batch_size,-1,n_heads, d_v).transpose(1,2)\n",
    "\n",
    "        atten_mask = atten_mask.unsqueeze(1).repeat(1,n_heads,1,1)\n",
    "\n",
    "        context,weights = self.scaledot(Q=q,K=k,V=v,atten_mask=atten_mask)\n",
    "\n",
    "        context = context.transpose(1,2).contiguous().view(batch_size,-1,n_heads*d_v)\n",
    "\n",
    "        output = self.linear(context)\n",
    "\n",
    "        output = self.layer_norm(output+residual)\n",
    "\n",
    "        return output, weights\n",
    "\n",
    "class FeedForward(nn.Module):\n",
    "    def __init__(self):\n",
    "        super(FeedForward,self).__init__()\n",
    "        self.conv1 = nn.Conv1d(in_channels=d_embedding,out_channels=n_channel,kernel_size=1)\n",
    "        self.conv2 = nn.Conv1d(in_channels=n_channel,out_channels=d_embedding,kernel_size=1)\n",
    "        self.layer_norm = nn.LayerNorm(d_embedding)\n",
    "    def forward(self, inputs):\n",
    "        residual = inputs\n",
    "        output = nn.ReLU()(self.conv1(inputs.transpose(1,2)))\n",
    "        output = self.conv2(output).transpose(1,2)\n",
    "        output = self.layer_norm(output+residual)\n",
    "        return output\n",
    "\n",
    "def get_sin_cos_pos(n_pos,embedding_dim):\n",
    "    sincos = np.zeros((n_pos,embedding_dim))\n",
    "    for i in range(n_pos):\n",
    "        for j in range(embedding_dim):\n",
    "            value = i/np.power(10000,2*(j//2)/embedding_dim)\n",
    "            sincos[i,j] = value\n",
    "    sincos[:,0::2] = np.sin(sincos[:,0::2])\n",
    "    sincos[:,1::2] = np.cos(sincos[:,1::2])\n",
    "    return torch.FloatTensor(sincos)\n",
    "\n",
    "def get_atten_mask(seq_q,seq_k):\n",
    "    batch_size = seq_q.size(0)\n",
    "    len_q = seq_q.size(1)\n",
    "    len_k = seq_k.size(1)\n",
    "    pad_atten_mask = seq_k.data.eq(0).unsqueeze(1)\n",
    "    pad_atten_mask = pad_atten_mask.expand(batch_size,len_q,len_k)\n",
    "    return pad_atten_mask\n",
    "\n",
    "def get_Mask_atten(seq):\n",
    "    atten_shape = [seq.size(0),seq.size(1),seq.size(1)]\n",
    "    maskatten = np.triu(np.ones(atten_shape),k=1)\n",
    "    maskatten = torch.from_numpy(maskatten).byte()\n",
    "    return maskatten\n",
    "\n",
    "class DecoderLayer(nn.Module):\n",
    "    def __init__(self):\n",
    "        super(DecoderLayer,self).__init__()\n",
    "        self.dec_self_atten = MultiHeadAttention()\n",
    "        self.feedforward = FeedForward()\n",
    "        self.norm1 = nn.LayerNorm(d_embedding)\n",
    "        self.norm2 = nn.LayerNorm(d_embedding)\n",
    "    def forward(self,dec_inputs,dec_self_atten_mask):\n",
    "        dec_outputs,dec_self_atten = self.dec_self_atten(dec_inputs,dec_inputs,dec_inputs,dec_self_atten_mask)\n",
    "\n",
    "        norm1 = self.norm1(dec_inputs+dec_outputs)\n",
    "        feed = self.feedforward(norm1)\n",
    "\n",
    "        dec_outputs = self.norm2(norm1+feed)\n",
    "        return dec_outputs\n",
    "\n",
    "class Decoder(nn.Module):\n",
    "    def __init__(self,vocab_size,max_lenth):\n",
    "        super(Decoder,self).__init__()\n",
    "        self.src_emb = nn.Embedding(vocab_size,d_embedding)\n",
    "        self.pos_emb = nn.Embedding(vocab_size,d_embedding)\n",
    "        self.layers = nn.ModuleList(DecoderLayer() for i in range(n_layers))\n",
    "    def forward(self,dec_inputs):\n",
    "        pos_index = torch.arange(len(dec_inputs),device=dec_inputs.device).unsqueeze(-1)\n",
    "        inputs_emb = self.src_emb(dec_inputs)+self.pos_emb(pos_index)\n",
    "        dec_self_atten_mask = get_Mask_atten(inputs_emb).to(device)\n",
    "        for layer in self.layers:\n",
    "            dec_outputs = layer(inputs_emb,dec_self_atten_mask)\n",
    "            inputs_emb = dec_outputs\n",
    "            dec_self_atten_mask = get_Mask_atten(inputs_emb).to(device)\n",
    "        return dec_outputs\n",
    "\n",
    "class GPT(nn.Module):\n",
    "    def __init__(self,corpus):\n",
    "        super(GPT,self).__init__()\n",
    "        self.corpos = corpus\n",
    "        self.decoder = Decoder(corpus.vocab_size,corpus.seq_len)\n",
    "        self.linear = nn.Linear(d_embedding,corpus.vocab_size)\n",
    "    def forward(self,dec_inputs):\n",
    "        dec_outputs = self.decoder(dec_inputs)\n",
    "        logit = self.linear(dec_outputs)\n",
    "        return logit"
   ]
  },
  {
   "cell_type": "code",
   "execution_count": 2,
   "id": "7ad762e1",
   "metadata": {
    "id": "7ad762e1"
   },
   "outputs": [],
   "source": [
    "def read_data(file_path):\n",
    "    with open(file_path) as f:\n",
    "        data = f.readlines()\n",
    "    return [i.replace('\\n','').strip(' ').lower() for i in data if i.replace('\\n','')!=\" \" and i.replace('\\n','')!='']"
   ]
  },
  {
   "cell_type": "code",
   "execution_count": 3,
   "id": "f3280090",
   "metadata": {
    "id": "f3280090"
   },
   "outputs": [],
   "source": [
    "from collections import Counter\n",
    "import transformers as tfs\n",
    "from tqdm import tqdm"
   ]
  },
  {
   "cell_type": "code",
   "execution_count": 4,
   "id": "6c523cae",
   "metadata": {
    "id": "6c523cae"
   },
   "outputs": [],
   "source": [
    "class bertCorpus():\n",
    "    def __init__(self, sentences, max_len = 100):\n",
    "        self.tokenizer = tfs.BertTokenizer.from_pretrained('bert-base-uncased')\n",
    "        self.sentences = sentences\n",
    "        self.seq_len = max_len\n",
    "        self.vocab = self.tokenizer.get_vocab()\n",
    "        self.vocab_size = len(self.vocab)\n",
    "        self.id2word = self.tokenizer.ids_to_tokens\n",
    "    \n",
    "    def make_batch(self):\n",
    "        input_batch,target_batch = [],[]\n",
    "#         sentence_index = torch.randperm(len(self.sentences))[:batch_size]\n",
    "        for index in tqdm(range(len(self.sentences))):\n",
    "            sentence = self.sentences[index]\n",
    "            if len(sentence.split(' ')) > 15:\n",
    "                seq = self.tokenizer(sentence, return_tensors='pt',max_length=self.seq_len, truncation=True, padding='max_length')['input_ids'][0].tolist()\n",
    "\n",
    "                input_batch.append(seq[:-1])\n",
    "                target_batch.append(seq[1:])\n",
    "                \n",
    "        input_batch = torch.LongTensor(input_batch)\n",
    "        target_batch = torch.LongTensor(target_batch)\n",
    "        return input_batch,target_batch\n",
    "    \n",
    "class chinesebertCorpus():\n",
    "    def __init__(self, sentences, max_len = 50):\n",
    "        self.tokenizer = tfs.BertTokenizer.from_pretrained('bert-base-chinese')\n",
    "        self.sentences = sentences\n",
    "        self.seq_len = max_len\n",
    "        self.vocab = self.tokenizer.get_vocab()\n",
    "        self.vocab_size = len(self.vocab)\n",
    "        self.id2word = self.tokenizer.ids_to_tokens\n",
    "    \n",
    "    def make_batch(self):\n",
    "        input_batch,target_batch = [],[]\n",
    "#         sentence_index = torch.randperm(len(self.sentences))[:batch_size]\n",
    "        for index in tqdm(range(len(self.sentences))):\n",
    "            sentence = self.sentences[index]\n",
    "            if len(sentence) > 1:\n",
    "                seq = self.tokenizer(sentence, return_tensors='pt',max_length=self.seq_len, truncation=True, padding='max_length')['input_ids'][0].tolist()\n",
    "\n",
    "                input_batch.append(seq[:-1])\n",
    "                target_batch.append(seq[1:])\n",
    "                \n",
    "        input_batch = torch.LongTensor(input_batch)\n",
    "        target_batch = torch.LongTensor(target_batch)\n",
    "        return input_batch,target_batch"
   ]
  },
  {
   "cell_type": "code",
   "execution_count": 5,
   "id": "d3f05655",
   "metadata": {
    "id": "d3f05655"
   },
   "outputs": [],
   "source": [
    "corpus = bertCorpus(read_data('./wikitext-103/wiki.train.tokens')+read_data('./wikitext-103/wiki.test.tokens')+read_data('./wikitext-103/wiki.valid.tokens')+read_data('./wikitext-103/wiki.train.txt'))"
   ]
  },
  {
   "cell_type": "code",
   "execution_count": 6,
   "id": "4a29a355",
   "metadata": {
    "id": "4a29a355"
   },
   "outputs": [
    {
     "name": "stderr",
     "output_type": "stream",
     "text": [
      "100%|███████████████████████████████| 1389458/1389458 [12:07<00:00, 1909.07it/s]\n"
     ]
    }
   ],
   "source": [
    "aa = corpus.make_batch()"
   ]
  },
  {
   "cell_type": "code",
   "execution_count": 7,
   "id": "cd99beb0",
   "metadata": {
    "id": "cd99beb0"
   },
   "outputs": [],
   "source": [
    "X_train_batch = []\n",
    "Y_train_batch = []"
   ]
  },
  {
   "cell_type": "code",
   "execution_count": 8,
   "id": "d11f4a83",
   "metadata": {
    "id": "d11f4a83"
   },
   "outputs": [],
   "source": [
    "bsize = batch_size\n",
    "for i in range(int(len(aa[0])/bsize)):\n",
    "    X_train_batch.append(aa[0][i*bsize:(i+1)*bsize])\n",
    "    Y_train_batch.append(aa[1][i*bsize:(i+1)*bsize])"
   ]
  },
  {
   "cell_type": "code",
   "execution_count": 9,
   "id": "525f67b8",
   "metadata": {
    "colab": {
     "base_uri": "https://localhost:8080/"
    },
    "id": "525f67b8",
    "outputId": "e19c4c1f-b552-470a-dc74-2b98f4e483bd",
    "scrolled": true
   },
   "outputs": [
    {
     "name": "stderr",
     "output_type": "stream",
     "text": [
      "1001it [02:01,  8.08it/s]"
     ]
    },
    {
     "name": "stdout",
     "output_type": "stream",
     "text": [
      "epoch:1----loss:0.9008\n"
     ]
    },
    {
     "name": "stderr",
     "output_type": "stream",
     "text": [
      "2001it [03:58,  8.14it/s]"
     ]
    },
    {
     "name": "stdout",
     "output_type": "stream",
     "text": [
      "epoch:1----loss:0.9041\n"
     ]
    },
    {
     "name": "stderr",
     "output_type": "stream",
     "text": [
      "3001it [05:56,  8.23it/s]"
     ]
    },
    {
     "name": "stdout",
     "output_type": "stream",
     "text": [
      "epoch:1----loss:0.9195\n"
     ]
    },
    {
     "name": "stderr",
     "output_type": "stream",
     "text": [
      "4001it [07:54,  8.13it/s]"
     ]
    },
    {
     "name": "stdout",
     "output_type": "stream",
     "text": [
      "epoch:1----loss:0.8754\n"
     ]
    },
    {
     "name": "stderr",
     "output_type": "stream",
     "text": [
      "5001it [09:50,  8.24it/s]"
     ]
    },
    {
     "name": "stdout",
     "output_type": "stream",
     "text": [
      "epoch:1----loss:0.8982\n"
     ]
    },
    {
     "name": "stderr",
     "output_type": "stream",
     "text": [
      "6001it [11:47,  8.29it/s]"
     ]
    },
    {
     "name": "stdout",
     "output_type": "stream",
     "text": [
      "epoch:1----loss:0.8404\n"
     ]
    },
    {
     "name": "stderr",
     "output_type": "stream",
     "text": [
      "7001it [13:45,  8.25it/s]"
     ]
    },
    {
     "name": "stdout",
     "output_type": "stream",
     "text": [
      "epoch:1----loss:0.7911\n"
     ]
    },
    {
     "name": "stderr",
     "output_type": "stream",
     "text": [
      "8001it [15:41,  8.30it/s]"
     ]
    },
    {
     "name": "stdout",
     "output_type": "stream",
     "text": [
      "epoch:1----loss:0.8672\n"
     ]
    },
    {
     "name": "stderr",
     "output_type": "stream",
     "text": [
      "9001it [17:38,  8.78it/s]"
     ]
    },
    {
     "name": "stdout",
     "output_type": "stream",
     "text": [
      "epoch:1----loss:0.8176\n"
     ]
    },
    {
     "name": "stderr",
     "output_type": "stream",
     "text": [
      "10001it [19:36,  8.29it/s]"
     ]
    },
    {
     "name": "stdout",
     "output_type": "stream",
     "text": [
      "epoch:1----loss:0.7931\n"
     ]
    },
    {
     "name": "stderr",
     "output_type": "stream",
     "text": [
      "11001it [21:33,  8.23it/s]"
     ]
    },
    {
     "name": "stdout",
     "output_type": "stream",
     "text": [
      "epoch:1----loss:0.8053\n"
     ]
    },
    {
     "name": "stderr",
     "output_type": "stream",
     "text": [
      "12001it [23:31,  8.10it/s]"
     ]
    },
    {
     "name": "stdout",
     "output_type": "stream",
     "text": [
      "epoch:1----loss:0.7896\n"
     ]
    },
    {
     "name": "stderr",
     "output_type": "stream",
     "text": [
      "13001it [25:29,  8.20it/s]"
     ]
    },
    {
     "name": "stdout",
     "output_type": "stream",
     "text": [
      "epoch:1----loss:0.7824\n"
     ]
    },
    {
     "name": "stderr",
     "output_type": "stream",
     "text": [
      "14001it [27:27,  8.13it/s]"
     ]
    },
    {
     "name": "stdout",
     "output_type": "stream",
     "text": [
      "epoch:1----loss:0.7850\n"
     ]
    },
    {
     "name": "stderr",
     "output_type": "stream",
     "text": [
      "15001it [29:25,  8.15it/s]"
     ]
    },
    {
     "name": "stdout",
     "output_type": "stream",
     "text": [
      "epoch:1----loss:0.7910\n"
     ]
    },
    {
     "name": "stderr",
     "output_type": "stream",
     "text": [
      "16001it [31:23,  8.06it/s]"
     ]
    },
    {
     "name": "stdout",
     "output_type": "stream",
     "text": [
      "epoch:1----loss:0.8125\n"
     ]
    },
    {
     "name": "stderr",
     "output_type": "stream",
     "text": [
      "17001it [33:20,  8.27it/s]"
     ]
    },
    {
     "name": "stdout",
     "output_type": "stream",
     "text": [
      "epoch:1----loss:0.7662\n"
     ]
    },
    {
     "name": "stderr",
     "output_type": "stream",
     "text": [
      "18001it [35:18,  8.30it/s]"
     ]
    },
    {
     "name": "stdout",
     "output_type": "stream",
     "text": [
      "epoch:1----loss:0.7742\n"
     ]
    },
    {
     "name": "stderr",
     "output_type": "stream",
     "text": [
      "19001it [37:15,  8.20it/s]"
     ]
    },
    {
     "name": "stdout",
     "output_type": "stream",
     "text": [
      "epoch:1----loss:0.7828\n"
     ]
    },
    {
     "name": "stderr",
     "output_type": "stream",
     "text": [
      "20001it [39:13,  8.11it/s]"
     ]
    },
    {
     "name": "stdout",
     "output_type": "stream",
     "text": [
      "epoch:1----loss:0.7762\n"
     ]
    },
    {
     "name": "stderr",
     "output_type": "stream",
     "text": [
      "21001it [41:11,  8.21it/s]"
     ]
    },
    {
     "name": "stdout",
     "output_type": "stream",
     "text": [
      "epoch:1----loss:0.7934\n"
     ]
    },
    {
     "name": "stderr",
     "output_type": "stream",
     "text": [
      "22001it [43:08,  8.96it/s]"
     ]
    },
    {
     "name": "stdout",
     "output_type": "stream",
     "text": [
      "epoch:1----loss:0.7789\n"
     ]
    },
    {
     "name": "stderr",
     "output_type": "stream",
     "text": [
      "23001it [45:06,  8.18it/s]"
     ]
    },
    {
     "name": "stdout",
     "output_type": "stream",
     "text": [
      "epoch:1----loss:0.8259\n"
     ]
    },
    {
     "name": "stderr",
     "output_type": "stream",
     "text": [
      "24001it [47:04,  8.25it/s]"
     ]
    },
    {
     "name": "stdout",
     "output_type": "stream",
     "text": [
      "epoch:1----loss:0.7742\n"
     ]
    },
    {
     "name": "stderr",
     "output_type": "stream",
     "text": [
      "25001it [49:01,  8.21it/s]"
     ]
    },
    {
     "name": "stdout",
     "output_type": "stream",
     "text": [
      "epoch:1----loss:0.7097\n"
     ]
    },
    {
     "name": "stderr",
     "output_type": "stream",
     "text": [
      "26001it [50:59,  8.17it/s]"
     ]
    },
    {
     "name": "stdout",
     "output_type": "stream",
     "text": [
      "epoch:1----loss:0.5860\n"
     ]
    },
    {
     "name": "stderr",
     "output_type": "stream",
     "text": [
      "27001it [52:56,  8.30it/s]"
     ]
    },
    {
     "name": "stdout",
     "output_type": "stream",
     "text": [
      "epoch:1----loss:0.7719\n"
     ]
    },
    {
     "name": "stderr",
     "output_type": "stream",
     "text": [
      "28001it [54:54,  8.09it/s]"
     ]
    },
    {
     "name": "stdout",
     "output_type": "stream",
     "text": [
      "epoch:1----loss:0.7921\n"
     ]
    },
    {
     "name": "stderr",
     "output_type": "stream",
     "text": [
      "29001it [56:52,  8.96it/s]"
     ]
    },
    {
     "name": "stdout",
     "output_type": "stream",
     "text": [
      "epoch:1----loss:0.7330\n"
     ]
    },
    {
     "name": "stderr",
     "output_type": "stream",
     "text": [
      "30001it [58:49,  8.27it/s]"
     ]
    },
    {
     "name": "stdout",
     "output_type": "stream",
     "text": [
      "epoch:1----loss:0.6813\n"
     ]
    },
    {
     "name": "stderr",
     "output_type": "stream",
     "text": [
      "31001it [1:00:47,  8.19it/s]"
     ]
    },
    {
     "name": "stdout",
     "output_type": "stream",
     "text": [
      "epoch:1----loss:0.7513\n"
     ]
    },
    {
     "name": "stderr",
     "output_type": "stream",
     "text": [
      "32001it [1:02:45,  8.33it/s]"
     ]
    },
    {
     "name": "stdout",
     "output_type": "stream",
     "text": [
      "epoch:1----loss:0.7581\n"
     ]
    },
    {
     "name": "stderr",
     "output_type": "stream",
     "text": [
      "33001it [1:04:44,  8.10it/s]"
     ]
    },
    {
     "name": "stdout",
     "output_type": "stream",
     "text": [
      "epoch:1----loss:0.7222\n"
     ]
    },
    {
     "name": "stderr",
     "output_type": "stream",
     "text": [
      "34001it [1:06:43,  8.16it/s]"
     ]
    },
    {
     "name": "stdout",
     "output_type": "stream",
     "text": [
      "epoch:1----loss:0.7482\n"
     ]
    },
    {
     "name": "stderr",
     "output_type": "stream",
     "text": [
      "35001it [1:08:41,  8.12it/s]"
     ]
    },
    {
     "name": "stdout",
     "output_type": "stream",
     "text": [
      "epoch:1----loss:0.7031\n"
     ]
    },
    {
     "name": "stderr",
     "output_type": "stream",
     "text": [
      "36001it [1:10:40,  8.11it/s]"
     ]
    },
    {
     "name": "stdout",
     "output_type": "stream",
     "text": [
      "epoch:1----loss:0.7703\n"
     ]
    },
    {
     "name": "stderr",
     "output_type": "stream",
     "text": [
      "37001it [1:12:38,  8.17it/s]"
     ]
    },
    {
     "name": "stdout",
     "output_type": "stream",
     "text": [
      "epoch:1----loss:0.7693\n"
     ]
    },
    {
     "name": "stderr",
     "output_type": "stream",
     "text": [
      "37021it [1:12:41,  8.62it/s]"
     ]
    }
   ],
   "source": [
    "import torch.optim as optim\n",
    "from tqdm import tqdm\n",
    "# device = torch.device(\"cuda\" if torch.cuda.is_available() else \"cpu\")\n",
    "device = \"mps\"\n",
    "model = GPT(corpus).to(device)\n",
    "criterion = nn.CrossEntropyLoss(ignore_index=corpus.vocab['[PAD]'])\n",
    "optimizer = optim.Adam(model.parameters(),lr=0.001)\n",
    "epochs=200\n",
    "train_loss = []\n",
    "min_loss = np.inf\n",
    "accumulate = 8\n",
    "for epoch in range(epochs):\n",
    "    total_train_loss = []\n",
    "    model.train()\n",
    "    n=0\n",
    "    for x_train_batch, y_train_batch in tqdm(zip(X_train_batch,Y_train_batch)):\n",
    "        optimizer.zero_grad()\n",
    "        dec_inputs,target_batch = x_train_batch,y_train_batch\n",
    "        dec_inputs,target_batch = dec_inputs.to(device),target_batch.to(device)\n",
    "        outputs=model(dec_inputs)\n",
    "        loss = criterion(outputs.view(-1,corpus.vocab_size),target_batch.view(-1))\n",
    "        loss = loss/accumulate\n",
    "        loss.backward()\n",
    "        if (n+1)%accumulate == 0:\n",
    "            optimizer.step()\n",
    "            optimizer.zero_grad()\n",
    "\n",
    "        if (n+1)%1000==0:\n",
    "            print(\"epoch:%d----loss:%.4f\"%(epoch+1,loss))\n",
    "        n+=1\n",
    "\n",
    "        total_train_loss.append(loss.item())\n",
    "    train_loss.append(np.mean(total_train_loss ))\n",
    "    if train_loss[-1] < min_loss:\n",
    "        min_loss = train_loss[-1]\n",
    "        torch.save(model, './GPT.pkl')\n",
    "        print('train_loss:%.4f,best_loss:%.4f----OK'%(train_loss[-1],min_loss))\n",
    "    else:\n",
    "        print('train_loss:%.4f,best_loss:%.4f'%(train_loss[-1],min_loss))"
   ]
  },
  {
   "cell_type": "code",
   "execution_count": 28,
   "id": "6af7236f",
   "metadata": {
    "id": "6af7236f"
   },
   "outputs": [],
   "source": [
    "def gen_tanxin(model,input_str,max_len=5):\n",
    "    model.eval()\n",
    "    input_tokens = corpus.tokenizer(input_str, return_tensors='pt', truncation=True)['input_ids'][0].tolist()[:-1]\n",
    "    if len(input_tokens) == 0:\n",
    "        return 'fvv'\n",
    "    output_tokens = input_tokens\n",
    "    with torch.no_grad():\n",
    "        for _ in range(max_len):\n",
    "            device = 'mps'\n",
    "            inputs = torch.LongTensor(output_tokens).unsqueeze(0).to(device)\n",
    "            outputs = model(inputs)\n",
    "            \n",
    "            logits = outputs[:,-1,:]\n",
    "            \n",
    "            _,next_token = torch.topk(logits,1,dim=-1)\n",
    "            \n",
    "            if next_token.item() == corpus.vocab[\"[SEP]\"]:\n",
    "                break\n",
    "            output_tokens.append(next_token.item())\n",
    "    output_str = \" \".join([corpus.id2word[token] for token in output_tokens])\n",
    "    return output_str\n",
    "\n",
    "def gen_beam(model,input_str,max_len=5,beam_width=5,repetition_penalty=1.2):\n",
    "    model.eval()\n",
    "    input_tokens = corpus.tokenizer(input_str, return_tensors='pt', truncation=True)['input_ids'][0].tolist()[:-1]\n",
    "    if len(input_tokens) == 0:\n",
    "        return 'fvv'\n",
    "    \n",
    "    candidates = [(input_tokens,0.0)]\n",
    "    \n",
    "    final_result = []\n",
    "    with torch.no_grad():\n",
    "        for _ in range(max_len):\n",
    "            new_cands = []\n",
    "            for cand,cand_score in candidates:\n",
    "                device = 'mps'\n",
    "                inputs = torch.LongTensor(cand).unsqueeze(0).to(device)\n",
    "                outputs = model(inputs)\n",
    "                logits = outputs[:,-1,:]\n",
    "                \n",
    "                for token in set(cand):\n",
    "                    logits[0,token] /= repetition_penalty\n",
    "                    \n",
    "                logits[0,corpus.vocab['[PAD]']] = -np.inf\n",
    "                \n",
    "                scores,next_tokens = torch.topk(logits,beam_width,dim=-1)\n",
    "                \n",
    "                for score,next_token in zip(scores.squeeze(),next_tokens.squeeze()):\n",
    "                    new_cand = cand+[next_token.item()]\n",
    "                    new_score = cand_score-score.item()\n",
    "                    if next_token.item() == corpus.vocab[\"[SEP]\"]:\n",
    "                        final_result.append((new_cand,new_score))\n",
    "                    else:\n",
    "                        new_cands.append((new_cand,new_score))\n",
    "        \n",
    "            candidates = sorted(new_cands,key=lambda x:x[1],reverse=True)[:beam_width]\n",
    "            \n",
    "    if final_result:\n",
    "        best_cand,_ = sorted(final_result,key=lambda x:x[1],reverse=True)[0]\n",
    "    else:\n",
    "        best_cand,_ = sorted(candidates,key=lambda x:x[1],reverse=True)[0]\n",
    "    output_str = \" \".join([corpus.id2word[token] for token in best_cand])\n",
    "    return output_str    "
   ]
  },
  {
   "cell_type": "code",
   "execution_count": 29,
   "id": "65fee792",
   "metadata": {
    "id": "65fee792"
   },
   "outputs": [],
   "source": [
    "# device = torch.device(\"cuda\" if torch.cuda.is_available() else \"cpu\")\n",
    "model = torch.load('./GPT.pkl')\n",
    "# model = GPT(corpus).to(device)\n",
    "# model.load_state_dict(torch.load('./GPT.pkl'))"
   ]
  },
  {
   "cell_type": "code",
   "execution_count": 42,
   "id": "fd6279df",
   "metadata": {
    "id": "fd6279df"
   },
   "outputs": [],
   "source": [
    "input_str = \"you are the'\""
   ]
  },
  {
   "cell_type": "code",
   "execution_count": 43,
   "id": "423d9dd9",
   "metadata": {
    "id": "423d9dd9"
   },
   "outputs": [
    {
     "data": {
      "text/plain": [
       "\"[CLS] you are the ' s first episode , and < un ##k > ,\""
      ]
     },
     "execution_count": 43,
     "metadata": {},
     "output_type": "execute_result"
    }
   ],
   "source": [
    "gen_tanxin(model,input_str,max_len=10)"
   ]
  },
  {
   "cell_type": "code",
   "execution_count": 44,
   "id": "9c514e8c",
   "metadata": {
    "id": "9c514e8c",
    "scrolled": true
   },
   "outputs": [
    {
     "data": {
      "text/plain": [
       "'[CLS] you are the \\' ll written , \" < < [SEP]'"
      ]
     },
     "execution_count": 44,
     "metadata": {},
     "output_type": "execute_result"
    }
   ],
   "source": [
    "gen_beam(model,input_str,max_len=10,beam_width=3,repetition_penalty=1.2)"
   ]
  },
  {
   "cell_type": "code",
   "execution_count": null,
   "id": "1a8c822f",
   "metadata": {
    "id": "1a8c822f"
   },
   "outputs": [],
   "source": []
  },
  {
   "cell_type": "code",
   "execution_count": null,
   "id": "91ecbaab",
   "metadata": {
    "id": "91ecbaab"
   },
   "outputs": [],
   "source": []
  }
 ],
 "metadata": {
  "accelerator": "GPU",
  "colab": {
   "gpuType": "T4",
   "provenance": []
  },
  "kernelspec": {
   "display_name": "Python 3 (ipykernel)",
   "language": "python",
   "name": "python3"
  },
  "language_info": {
   "codemirror_mode": {
    "name": "ipython",
    "version": 3
   },
   "file_extension": ".py",
   "mimetype": "text/x-python",
   "name": "python",
   "nbconvert_exporter": "python",
   "pygments_lexer": "ipython3",
   "version": "3.11.4"
  }
 },
 "nbformat": 4,
 "nbformat_minor": 5
}
